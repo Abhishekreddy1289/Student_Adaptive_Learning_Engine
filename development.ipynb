{
 "cells": [
  {
   "cell_type": "code",
   "execution_count": 117,
   "metadata": {},
   "outputs": [
    {
     "name": "stdout",
     "output_type": "stream",
     "text": [
      "New session unique-session-id-001 inserted for student student-123.\n",
      "Current sessions for student-123:\n",
      "{\n",
      "    \"student-123\": {\n",
      "        \"unique-session-id-001\": {\n",
      "            \"session_id\": \"unique-session-id-001\",\n",
      "            \"student_id\": \"student-123\",\n",
      "            \"student_level\": \"beginner\",\n",
      "            \"learning_goals\": \"Master basic Python syntax\",\n",
      "            \"status\": \"active\",\n",
      "            \"interactions\": [\n",
      "                {\n",
      "                    \"interaction_id\": \"interaction-001\",\n",
      "                    \"timestamp\": \"2025-01-18 02:06:04.450074\",\n",
      "                    \"query\": \"What is a variable in Python?\",\n",
      "                    \"student_response\": \"A variable holds a function\",\n",
      "                    \"comprehension_signal\": 0,\n",
      "                    \"feedback\": \"\"\n",
      "                },\n",
      "                {\n",
      "                    \"interaction_id\": \"interaction-002\",\n",
      "                    \"timestamp\": \"2025-01-18 02:06:04.450074\",\n",
      "                    \"query\": \"How do you define a function in Python?\",\n",
      "                    \"student_response\": \"Function is created using a class\",\n",
      "                    \"comprehension_signal\": 0,\n",
      "                    \"feedback\": \"\"\n",
      "                }\n",
      "            ]\n",
      "        }\n",
      "    }\n",
      "}\n"
     ]
    }
   ],
   "source": [
    "import json\n",
    "from datetime import datetime\n",
    "\n",
    "# Path to the JSON file\n",
    "json_file_path = 'sessions.json'\n",
    "\n",
    "# Example session data for session-001\n",
    "session_data_1 = {\n",
    "    \"session_id\": \"unique-session-id-001\",\n",
    "    \"student_id\": \"student-123\",\n",
    "    \"student_level\": \"beginner\",\n",
    "    \"learning_goals\": \"Master basic Python syntax\",\n",
    "    \"status\": \"active\",\n",
    "    \"interactions\": [\n",
    "        {\n",
    "            \"interaction_id\": \"interaction-001\",\n",
    "            \"timestamp\": str(datetime.now()),\n",
    "            \"query\": \"What is a variable in Python?\",\n",
    "            \"student_response\": \"A variable holds a function\",\n",
    "            \"comprehension_signal\": 0,\n",
    "            \"feedback\": \"\"\n",
    "        },\n",
    "        {\n",
    "            \"interaction_id\": \"interaction-002\",\n",
    "            \"timestamp\": str(datetime.now()),\n",
    "            \"query\": \"How do you define a function in Python?\",\n",
    "            \"student_response\": \"Function is created using a class\",\n",
    "            \"comprehension_signal\": 0,\n",
    "            \"feedback\": \"\"\n",
    "        }\n",
    "    ]\n",
    "}\n",
    "\n",
    "# New interaction to be added to an existing session\n",
    "new_interaction = {\n",
    "    \"interaction_id\": \"interaction-003\",\n",
    "    \"timestamp\": str(datetime.now()),\n",
    "    \"query\": \"What is a loop in Python?\",\n",
    "    \"student_response\": \"A loop repeats code.\",\n",
    "    \"comprehension_signal\": 0,\n",
    "    \"feedback\": \"\"\n",
    "}\n",
    "\n",
    "# Function to load the existing student sessions from the JSON file\n",
    "def load_sessions():\n",
    "    try:\n",
    "        with open(json_file_path, 'r') as f:\n",
    "            content = f.read().strip()\n",
    "            if not content:\n",
    "                return {}  # Return an empty dictionary if file is empty\n",
    "            return json.loads(content)  # Load the valid JSON content\n",
    "    except (FileNotFoundError, json.JSONDecodeError):\n",
    "        return {}  # If file doesn't exist or has invalid JSON, return an empty dictionary\n",
    "\n",
    "# Function to save the updated sessions to the JSON file\n",
    "def save_sessions(sessions):\n",
    "    with open(json_file_path, 'w') as f:\n",
    "        json.dump(sessions, f, indent=4)\n",
    "\n",
    "# Function to insert or update a session and its interactions for a student\n",
    "def insert_or_update_session(student_id, session_data):\n",
    "    # Load the existing sessions from the JSON file\n",
    "    sessions = load_sessions()\n",
    "\n",
    "    # Check if the student exists in the sessions data\n",
    "    if student_id not in sessions:\n",
    "        sessions[student_id] = {}\n",
    "\n",
    "    session_id = session_data[\"session_id\"]\n",
    "\n",
    "    # If the session already exists, append the new interaction\n",
    "    if session_id in sessions[student_id]:\n",
    "        sessions[student_id][session_id][\"interactions\"].append(new_interaction)\n",
    "        print(f\"New interaction added to session {session_id} for student {student_id}.\")\n",
    "    else:\n",
    "        # Insert the new session under the student ID\n",
    "        sessions[student_id][session_id] = session_data\n",
    "        print(f\"New session {session_id} inserted for student {student_id}.\")\n",
    "\n",
    "    # Save the updated sessions back to the JSON file\n",
    "    save_sessions(sessions)\n",
    "\n",
    "# Insert or update the session for student-123\n",
    "insert_or_update_session(\"student-123\", session_data_1)\n",
    "\n",
    "# Optionally, print out the current sessions to verify\n",
    "print(\"Current sessions for student-123:\")\n",
    "with open(json_file_path, 'r') as f:\n",
    "    print(json.dumps(json.load(f), indent=4))\n"
   ]
  },
  {
   "cell_type": "code",
   "execution_count": 40,
   "metadata": {},
   "outputs": [],
   "source": [
    "# New interaction to be added or updated\n",
    "new_interaction = {\n",
    "    \"interaction_id\": \"interaction-003\",\n",
    "    \"timestamp\": str(datetime.now()),\n",
    "    \"query\": \"What is a loop in Python?\",\n",
    "    \"student_response\": \"A loop repeats code.\",\n",
    "    \"comprehension_signal\": 0,\n",
    "    \"feedback\": \"\"\n",
    "}"
   ]
  },
  {
   "cell_type": "code",
   "execution_count": 41,
   "metadata": {},
   "outputs": [],
   "source": [
    "def update_interactions(session_id, new_interaction):\n",
    "    # Load existing sessions\n",
    "    sessions = load_sessions()\n",
    "\n",
    "    # Check if the session ID exists\n",
    "    if session_id in sessions:\n",
    "        # Add the new interaction to the session's interactions list\n",
    "        sessions[session_id][\"interactions\"].append(new_interaction)\n",
    "        save_sessions(sessions)\n",
    "        print(f\"Interaction added to session with ID {session_id}.\")\n",
    "    else:\n",
    "        print(f\"Error: Session with ID {session_id} does not exist.\")"
   ]
  },
  {
   "cell_type": "code",
   "execution_count": 42,
   "metadata": {},
   "outputs": [
    {
     "name": "stdout",
     "output_type": "stream",
     "text": [
      "Interaction added to session with ID unique-session-id-001.\n"
     ]
    }
   ],
   "source": [
    "# Now, update the interactions by adding a new interaction\n",
    "update_interactions(\"unique-session-id-001\", new_interaction)"
   ]
  },
  {
   "cell_type": "code",
   "execution_count": 43,
   "metadata": {},
   "outputs": [
    {
     "name": "stdout",
     "output_type": "stream",
     "text": [
      "Current sessions in the DB:\n",
      "{\n",
      "    \"unique-session-id-001\": {\n",
      "        \"session_id\": \"unique-session-id-001\",\n",
      "        \"student_id\": \"student-123\",\n",
      "        \"student_level\": \"beginner\",\n",
      "        \"learning_goals\": \"Master basic Python syntax\",\n",
      "        \"status\": \"active\",\n",
      "        \"interactions\": [\n",
      "            {\n",
      "                \"interaction_id\": \"interaction-001\",\n",
      "                \"timestamp\": \"2025-01-17 19:16:31.816688\",\n",
      "                \"query\": \"What is a variable in Python?\",\n",
      "                \"student_response\": \"A variable holds a function\",\n",
      "                \"comprehension_signal\": 0,\n",
      "                \"feedback\": \"\"\n",
      "            },\n",
      "            {\n",
      "                \"interaction_id\": \"interaction-002\",\n",
      "                \"timestamp\": \"2025-01-17 19:16:31.816688\",\n",
      "                \"query\": \"How do you define a function in Python?\",\n",
      "                \"student_response\": \"Function is created using a class\",\n",
      "                \"comprehension_signal\": 0,\n",
      "                \"feedback\": \"\"\n",
      "            },\n",
      "            {\n",
      "                \"interaction_id\": \"interaction-003\",\n",
      "                \"timestamp\": \"2025-01-17 19:20:20.138679\",\n",
      "                \"query\": \"What is a loop in Python?\",\n",
      "                \"student_response\": \"A loop repeats code.\",\n",
      "                \"comprehension_signal\": 0,\n",
      "                \"feedback\": \"\"\n",
      "            }\n",
      "        ]\n",
      "    }\n",
      "}\n"
     ]
    }
   ],
   "source": [
    "\n",
    "# Optional: Print out the current sessions to verify\n",
    "print(\"Current sessions in the DB:\")\n",
    "with open(json_file_path, 'r') as f:\n",
    "    print(json.dumps(json.load(f), indent=4))"
   ]
  },
  {
   "cell_type": "code",
   "execution_count": null,
   "metadata": {},
   "outputs": [],
   "source": []
  },
  {
   "cell_type": "code",
   "execution_count": 57,
   "metadata": {},
   "outputs": [],
   "source": [
    "prompt=\"\"\"Your task is to validate the user's response to the question provided, based on the given topics or session context. If the response is correct, you should reply with \"Correct Answer\". If the response is partially correct or requires some clarification, reply with \"Partially correct answer\". If the response is wrong, reply with \"Incorrect Answer\". If the user's response is not related to the topics or session context, reply with \"Not topic related\".\n",
    "\n",
    "**Instructions:**\n",
    "1. Carefully analyze the question, the user's response, and the topics of the session.\n",
    "2. If the response is correct based on the session topics, reply with \"Correct Answer\".\n",
    "3. If the response is partially correct or needs some additional context for clarification, reply with \"Partially correct answer\".\n",
    "4. If the response is incorrect, reply with \"Incorrect Answer\".\n",
    "5. If the user's response does not align with the topics, reply with \"Not topic related\".\n",
    "\n",
    "Example 1:\n",
    "Student : The capital of France is Paris.\n",
    "Session Topics: Geography, Countries\n",
    "Bot Response: \"Correct Answer\"\n",
    "\"\"\""
   ]
  },
  {
   "cell_type": "code",
   "execution_count": 58,
   "metadata": {},
   "outputs": [],
   "source": [
    "from openai import AzureOpenAI\n",
    "\n",
    "azure_endpoint=\"Azure Endpoint\"\n",
    "api_key=\"API key\"\n",
    "api_version=\"2023-07-01-preview\"\n",
    "gpt_engine_name=\"gpt-4o\" #recommend gpt-4o model\n",
    "openai_client = AzureOpenAI(\n",
    "                    azure_endpoint = azure_endpoint,\n",
    "                    api_key=api_key,\n",
    "                    api_version= api_version\n",
    "                )"
   ]
  },
  {
   "cell_type": "code",
   "execution_count": 59,
   "metadata": {},
   "outputs": [],
   "source": [
    "history=\"\""
   ]
  },
  {
   "cell_type": "code",
   "execution_count": 60,
   "metadata": {},
   "outputs": [],
   "source": [
    "def validate_response(query, Topics=None):\n",
    "    try:\n",
    "        system_prompt=prompt\n",
    "        ans = openai_client.chat.completions.create(\n",
    "            model=gpt_engine_name,\n",
    "            messages=[\n",
    "                {'role': 'system', 'content': system_prompt},\n",
    "                {'role': 'user','content': f'''User: Your task is to analyze the user's response in relation to the session topics and provide feedback.\n",
    "\n",
    "Session Topics:\n",
    "{Topics}\n",
    "Student: {query}\n",
    "Bot Response:'''}\n",
    "\n",
    "            ],\n",
    "            temperature=0.1\n",
    "        )\n",
    "        ans=ans.choices[0].message.content\n",
    "        return ans\n",
    "    except Exception as e:\n",
    "            raise Exception(f\"Error in follow-up : {e}\")"
   ]
  },
  {
   "cell_type": "code",
   "execution_count": 64,
   "metadata": {},
   "outputs": [
    {
     "data": {
      "text/plain": [
       "'Incorrect Answer'"
      ]
     },
     "execution_count": 64,
     "metadata": {},
     "output_type": "execute_result"
    }
   ],
   "source": [
    "topics=\"Learn capital cities\"\n",
    "validate_response(\"what is capital pf india?\",topics)"
   ]
  },
  {
   "cell_type": "code",
   "execution_count": 68,
   "metadata": {},
   "outputs": [],
   "source": [
    "intent_prompt=\"\"\"You are an intent classification agent. Your task is to determine the intent behind the provided user query. Carefully analyze the query and classify it into one of the following categories:\n",
    "\n",
    "Intent Definitions:\n",
    "- question: If the user query explicitly asks a question, classify the intent as \"question.\"\n",
    "- question_answer: If the user query containes both question and answer, classify the intent as \"question_answer.\"\n",
    "\n",
    "Based on the given query and the above definitions, classify the query as either \"question\" or \"question_answer.\"\n",
    "\n",
    "Please output only one of the following intents: \"question\" or \"question_answer.\" No additional explanations or information are required.\"\"\""
   ]
  },
  {
   "cell_type": "code",
   "execution_count": 69,
   "metadata": {},
   "outputs": [],
   "source": [
    "def classify_intent(query):\n",
    "    try:\n",
    "        # Set up system prompt and the user's query for the chat API\n",
    "        system_prompt = prompt\n",
    "        ans = openai_client.chat.completions.create(\n",
    "            model=gpt_engine_name,\n",
    "            messages=[\n",
    "                {'role': 'system', 'content': intent_prompt},\n",
    "                {'role': 'user', 'content': f'''User: Your task is to analyze the user's query and classify the intent as either \"question\" or \"question_answer\".\n",
    "User Query: {query}\n",
    "Bot Response:'''}\n",
    "            ],\n",
    "            temperature=0.1,\n",
    "            max_tokens=2\n",
    "        )\n",
    "        ans = ans.choices[0].message.content.strip()\n",
    "        return ans\n",
    "    except Exception as e:\n",
    "        raise Exception(f\"Error in intent classification: {e}\")\n"
   ]
  },
  {
   "cell_type": "code",
   "execution_count": 72,
   "metadata": {},
   "outputs": [
    {
     "data": {
      "text/plain": [
       "'question'"
      ]
     },
     "execution_count": 72,
     "metadata": {},
     "output_type": "execute_result"
    }
   ],
   "source": [
    "classify_intent(\"capital of india\")"
   ]
  },
  {
   "cell_type": "code",
   "execution_count": 101,
   "metadata": {},
   "outputs": [],
   "source": [
    "def get_qa_system(conversation):\n",
    "    delimiter=\"####\"\n",
    "    overall_rating=[4,5,5,4]\n",
    "    if overall_rating==[]:\n",
    "        rating='unknown'\n",
    "    else:\n",
    "        rating=round(sum(overall_rating)/len(overall_rating), 2)\n",
    "        \n",
    "    qa_system = f\"\"\"You are an adaptive learning assistant dedicated to providing customized support to students in a distinctive manner. It's essential to understand that your role transcends that of a traditional Q&A bot; your purpose is to facilitate learning and foster critical thinking.In the context of preparing adaptive learning, ensure that questions are not repeated with the student based on their interaction history. Avoid asking the same questions that have already been answered by the student in previous chat interactions. Here are the core features and instructions that define your role:\n",
    "\n",
    "    1. **Adaptive Learning Approach:** The approach you employ is adaptable, customized to cater to the distinct requirements of each student. You assess a student's comprehension level and adapt your responses accordingly.\n",
    "\n",
    "    2. **Engaging with Knowledge Gaps:** When you detect gaps in a student's understanding, your role transcends mere concept explanation. You go further by providing supplementary exercises to fortify their learning experience. However, when students seek answers to these exercises, it's important to approach it as if they're learning something new, almost like nurturing a baby's development. In your responses, encourage them to not just expect answers but guide them toward a deeper comprehension, nurturing their learning journey.\n",
    "\n",
    "    3. **Feedback Loop:** Once a student feels confident and offers a response to an exercise or question, your duty extends to assessing the answer and delivering feedback as outlined below. Additionally, don't forget to offer rewards and words of encouragement, such as \"Congratulations\" and \"Great job,\" to further motivate and celebrate their progress.\n",
    "\n",
    "IMPORTENT NOTE: PLEASE REFRAIN FROM PROVIDING DIRECT ANSWER, AS MENTIONED EARLIER. ONLY SUPPLY RESPONSES IN THE SPECIFIED FORMAT WHEN A STUDENT VOLUNTARILY PROVIDES ONE. FOR ALL OTHER INSTANCES, KINDLY OFFER A RESPONSE AS REQUESTED.IF A STUDENT FAILS TO ANSWER PROVIDE ANSWER.\n",
    "\n",
    "\n",
    "    Your function is to accept student ratings, queries, and context as input, delivering comprehensive explanations in an innovative and adaptive learning manner.\n",
    "\n",
    "    To determine a student's intellectual level, follow these steps:\n",
    "\n",
    "    - Analyze the student's interactions with the bot, including the types of queries and follow-up questions asked. Observe whether the student engages in sustained discussions on a particular topic with follow-up queries or expresses difficulty in understanding the bot's responses. These indicators will help identify the student's comprehension level.\n",
    "\n",
    "    - A student who consistently asks follow-up questions to grasp a topic better and sustains discussions on the same subject or mentions difficulties understanding responses is likely struggling and classified as a weak student.\n",
    "\n",
    "    - On the other hand, a student who poses follow-up questions not to clarify previous queries but to acquire additional knowledge and explores various topics is considered a proficient student.\n",
    "\n",
    "    - A student with a routine conversation and no follow-up questions or no expression of difficulty understanding the topic has a normal understanding.\n",
    "\n",
    "    To effectively address student queries related to physics or any query like below step 5, follow these comprehensive steps. The student's query and context will be delimited with five hashtags: {delimiter}\n",
    "\n",
    " Step 1:{delimiter} Carefully examine the provided context to pinpoint the pertinent sections capable of addressing the student's query.\n",
    "\n",
    "Step 2:{delimiter} Considering the student's intellectual level and provided rating, extract the answer from the given context. Deliver a suitable response in an adaptive manner, ensuring that the response varies for each student, depending on their intellectual level and provided rating. Provide a unique response to the student's query based on their intelligence.\n",
    "\n",
    "Step 3:{delimiter} If the answer cannot be found within the provided context, respond with \"The answer cannot be found within the given context.\"\n",
    "\n",
    "Step 4:{delimiter} Additionally, be attentive to student queries like 'I don't know,' 'no,' or 'I don't know anything about it' and please provide an answer if any keywords such as 'I don't know,' 'no,' or 'I don't know anything about it' are detected in the student's response.\"\n",
    "\n",
    "Step 5:{delimiter}In the context of preparing adaptive learning, ensure that same topic questions are not repeated with the student based on their conversation. Avoid asking the same topic questions.\n",
    "\n",
    "    Conversation:\n",
    "    {conversation}\n",
    "\n",
    "    Student Rating:\n",
    "    {rating} out of 5\n",
    "    \n",
    "Ensure that same topic questions are not repeated with the student based on their conversation. Avoid asking the same topic questions.\n",
    "    \"\"\"\n",
    "    return qa_system"
   ]
  },
  {
   "cell_type": "code",
   "execution_count": null,
   "metadata": {},
   "outputs": [],
   "source": []
  },
  {
   "cell_type": "code",
   "execution_count": 102,
   "metadata": {},
   "outputs": [
    {
     "name": "stdout",
     "output_type": "stream",
     "text": [
      "2.0\n"
     ]
    }
   ],
   "source": [
    "overall_rating=[1,2,3,3,2,1]\n",
    "if overall_rating==[]:\n",
    "        rating='unknown'\n",
    "else:\n",
    "    rating=round(sum(overall_rating)/len(overall_rating), 2)\n",
    "print(rating)"
   ]
  },
  {
   "cell_type": "code",
   "execution_count": 142,
   "metadata": {},
   "outputs": [],
   "source": [
    "def format_history(history):\n",
    "    s=''\n",
    "    for i in history:\n",
    "        s+=f\"User: {i['rephrased_query']}\"+'\\n'\n",
    "        s+=f\"Bot: {i[\"answer\"]}\"+'\\n'\n",
    "    return s.strip()"
   ]
  },
  {
   "cell_type": "code",
   "execution_count": 145,
   "metadata": {},
   "outputs": [],
   "source": [
    "h=\"\"\"User:what is captial of india? \\n Bot: It's great to see your curiosity about global geography! To further encourage your learning journey, let's explore some interesting facts about the capital city of India:\n",
    "\n",
    "1. This city is not only the political hub but also a historical treasure.\n",
    "2. It has significant landmarks like the Red Fort and India Gate.\n",
    "3. It serves as the seat of all three branches of the Government of India.\n",
    "\n",
    "Can you guess the name of this vibrant and historically rich city?\\n\"\"\"\n",
    "# history=[]\n",
    "def student_qna(query):\n",
    "    # if len(history) > 0:\n",
    "    #     h = format_history(history)\n",
    "    # else:\n",
    "    #     h=''\n",
    "    res = get_qa_system(h)\n",
    "\n",
    "    # Define the conversation history\n",
    "    conversation_history = [\n",
    "        {\"role\": \"system\", \"content\": res}\n",
    "    ]\n",
    "\n",
    "    # # User and assistant interactions\n",
    "    # interactions = [\n",
    "    # (\"user\", \"what Newton's first law of motion?\"),\n",
    "    # (\"assistant\", \"Sure, let's start with the basics. What do you know about objects at rest or in motion?\"),\n",
    "    # (\"user\", \"I don't know.\"),\n",
    "    # (\"assistant\", '''No problem. In simple terms, Newton's first law states that an object at rest tends to stay at rest, and an object in motion tends to stay in motion unless acted upon by an external force. Can you think of any examples where this law applies?'''),\n",
    "    # (\"user\", \"Well, a car stops when you take your foot off the gas.\"),\n",
    "    # (\"assistant\", '''That's a great example! When you release the gas pedal, the car slows down and eventually comes to a stop due to friction and air resistance. Now, can you tell me how Newton's first law relates to the car's motion?'''),\n",
    "    # (\"user\", \"Um, I'm not sure.\"),\n",
    "    # (\"assistant\", '''That's okay. Think of it this way: the car would keep moving forward if there were no opposing forces. This is in line with Newton's first law. It explains why the car slows down and stops when you let go of the gas pedal.'''),\n",
    "    # (\"user\", \"I see, so it's about forces acting on objects.\"),\n",
    "    # (\"assistant\", '''Exactly! Newton's laws of motion are all about how forces affect the motion of objects. Now, let's move on to Newton's second law, which deals with how the force applied to an object affects its acceleration. Can you tell me what you know about that?'''),\n",
    "    # (\"user\", \"I think it's about how the force applied is proportional to the acceleration.\"),\n",
    "    # (\"assistant\", '''Good start! Newton's second law states that the force applied to an object is equal to the mass of the object times its acceleration. This means that if you apply a greater force to an object, it will accelerate more. If you have a specific example in mind, we can work through the math together.'''),\n",
    "    # (\"user\", \"I'm not sure about the math part.\"),\n",
    "    # (\"assistant\", '''No worries! Math can be challenging. Let's skip the calculations for now. How about we discuss Newton's third law of motion? It's the one that says \"for every action, there is an equal and opposite reaction.\" What does that mean to you?'''),\n",
    "    # (\"user\", \"It means that if you push something, it pushes back with an equal force in the opposite direction.\"),\n",
    "    # (\"assistant\", '''You're absolutely right! This law explains why, for example, when you walk, your foot pushes back against the ground, propelling you forward. It's all about the interaction of forces. Now, can you think of other situations where this law applies?'''),\n",
    "    # (\"user\", \"How does this relate to space travel?\"),\n",
    "    # (\"assistant\", '''Great question! In space travel, the principle of Newton's third law is crucial. When a rocket expels gas out of its engines, the force of the expelled gas pushing backward propels the rocket forward. This is how spacecraft move in the vacuum of space.'''),\n",
    "    # (\"user\", \"I didn't know that. Thanks for explaining!\"),\n",
    "    # (\"assistant\", '''You're welcome! If you have any more questions or want to explore other physics topics, feel free to ask. Learning is all about asking questions and seeking answers!''')\n",
    "    # ]\n",
    "\n",
    "    interactions=[]\n",
    "\n",
    "    interactions.append((\"user\", query))\n",
    "\n",
    "    # Construct user_prompt\n",
    "    delimiter = \"===\"  # Replace with your desired delimiter\n",
    "    user_prompt = f'''\n",
    "\n",
    "    Conversation: {delimiter} {h} {delimiter}\n",
    "\n",
    "    Question: {delimiter} {query} {delimiter}\n",
    "\n",
    "    DO NOT PROVIDE DIRECT ANSWER and follow the ADAPTIVE LEARNING.\n",
    "\n",
    "    Ensure that same topic questions are not repeated with the student based on their Conversation. Avoid asking the same topic questions.\n",
    "    \n",
    "    You must provide a different and unique answer to the student based on their intelligence level, history, and rating.\n",
    "\n",
    "    Analyze the answer for the given query and guide the Conversation flow and innovative way based on the answer.\n",
    "    DON'T GIVE DIRECT ANSWER\n",
    "    \n",
    "    '''\n",
    "    interactions.append((\"user\", user_prompt))\n",
    "\n",
    "    ans = openai_client.chat.completions.create(\n",
    "            model=gpt_engine_name,\n",
    "            messages=conversation_history + [{\"role\": role, \"content\": content} for role, content in interactions],\n",
    "            max_tokens=500\n",
    "        )\n",
    "    ans=ans.choices[0].message.content\n",
    "\n",
    "    return ans"
   ]
  },
  {
   "cell_type": "code",
   "execution_count": 146,
   "metadata": {},
   "outputs": [
    {
     "name": "stdout",
     "output_type": "stream",
     "text": [
      "Congratulations! You've correctly identified that the capital of India is Delhi. \n",
      "\n",
      "Now that we've established that, how about exploring some key aspects of Delhi? For instance, would you like to learn more about its historical landmarks, such as the Red Fort and India Gate, or delve into its role as the seat of government? Your choice!\n"
     ]
    }
   ],
   "source": [
    "print(student_qna(\"delhi\"))"
   ]
  },
  {
   "cell_type": "code",
   "execution_count": 116,
   "metadata": {},
   "outputs": [
    {
     "name": "stdout",
     "output_type": "stream",
     "text": [
      "2025-01-18 02:02:04.461993\n"
     ]
    }
   ],
   "source": [
    "import datetime\n",
    "current_datetime = datetime.datetime.now()\n",
    "print(current_datetime)\n"
   ]
  },
  {
   "cell_type": "code",
   "execution_count": null,
   "metadata": {},
   "outputs": [],
   "source": [
    "def adapt_difficulty(comprehension_score, current_difficulty_level):\n",
    "    if comprehension_score > 3:\n",
    "        # Increase difficulty\n",
    "        if current_difficulty_level == \"easy\":\n",
    "            return \"medium\"\n",
    "        elif current_difficulty_level == \"medium\":\n",
    "            return \"hard\"\n",
    "        else:\n",
    "            return \"hard\"  # No higher level, so stay at hard\n",
    "    \n",
    "    elif comprehension_score < -2:\n",
    "        # Decrease difficulty\n",
    "        if current_difficulty_level == \"hard\":\n",
    "            return \"medium\"\n",
    "        elif current_difficulty_level == \"medium\":\n",
    "            return \"easy\"\n",
    "        else:\n",
    "            return \"easy\"  # No lower level, so stay at easy\n",
    "    else:\n",
    "        # Keep the same level\n",
    "        return current_difficulty_level\n"
   ]
  },
  {
   "cell_type": "code",
   "execution_count": 120,
   "metadata": {},
   "outputs": [],
   "source": [
    "score_system = \"\"\"You are a comprehension level calculator for students. Below are the core features and instructions that define your role:\n",
    "\n",
    "1. **Comprehension Level Calculator:** Your approach is flexible. You should consider both the previous conversation history and the current interaction and response in determining the comprehension level.\n",
    "\n",
    "2. **Comprehension Levels:**\n",
    "   - If the student provides a correct answer to the question, assign a comprehension level of 3.\n",
    "   - If the student asks a query, receives a hint, and then correctly predicts the answer on the first attempt, assign a comprehension level of 2.\n",
    "   - If the student predicts the answer correctly after receiving a second hint, assign a comprehension level of 1.\n",
    "   - If the student predicts the answer after receiving a third hint, assign a comprehension level of 0.\n",
    "   - If the student asks for more than three hints or responds with answers like \"I don't know,\" \"no,\" or \"I don't know anything about it,\" assign a comprehension level of -1.\n",
    "\n",
    "Your task is to evaluate the interactions and context provided and assign the appropriate comprehension level score.\n",
    "\n",
    "To determine the student's intellectual level, follow these steps:\n",
    "- Analyze the student's current interaction with the assistant. If the current interaction is related to the same topic as previous interactions, consider the entire conversation history to assign the comprehension level. Otherwise, base your evaluation solely on the current interaction.\n",
    "\n",
    "    \"\"\""
   ]
  },
  {
   "cell_type": "code",
   "execution_count": 121,
   "metadata": {},
   "outputs": [],
   "source": [
    "def format_history(history):\n",
    "    s=''\n",
    "    for i in history:\n",
    "        s+=f\"User: {i['rephrased_query']}\"+'\\n'\n",
    "        s+=f\"Bot: {i['answer']}\"+'\\n'\n",
    "    return s.strip()"
   ]
  },
  {
   "cell_type": "code",
   "execution_count": 150,
   "metadata": {},
   "outputs": [],
   "source": [
    "# history=[{\"'rephrased_query'\":\"what is captial of india?\"},{\"answer\":\"\"\"It's great to see your curiosity about global geography! To further encourage your learning journey, let's explore some interesting facts about the capital city of India:\n",
    "\n",
    "# 1. This city is not only the political hub but also a historical treasure.\n",
    "# 2. It has significant landmarks like the Red Fort and India Gate.\n",
    "# 3. It serves as the seat of all three branches of the Government of India.\n",
    "\n",
    "# Can you guess the name of this vibrant and historically rich city?\"\"\"}]\n",
    "# history=[]\n",
    "his=\"\"\"User:what is captial of india? \\n Bot: It's great to see your curiosity about global geography! To further encourage your learning journey, let's explore some interesting facts about the capital city of India:\n",
    "\n",
    "1. This city is not only the political hub but also a historical treasure.\n",
    "2. It has significant landmarks like the Red Fort and India Gate.\n",
    "3. It serves as the seat of all three branches of the Government of India.\n",
    "\n",
    "Can you guess the name of this vibrant and historically rich city?\\n\"\"\"\n",
    "def student_score(query,response,history):\n",
    "    interaction=f\"User: {query}\"+\"\\n\"\n",
    "    interaction=f\"Bot: {response}\"+\"\\n\"\n",
    "    # if history:\n",
    "    #     his=format_history(history)\n",
    "    # else:\n",
    "    #     his=''\n",
    "    conversation_history = [\n",
    "        {\"role\": \"system\", \"content\": score_system}\n",
    "    ]\n",
    "\n",
    "    interactions=[]\n",
    "\n",
    "    # interactions.append((\"user\", query))\n",
    "\n",
    "    # Construct user_prompt\n",
    "    delimiter = \"===\"  # Replace with your desired delimiter\n",
    "    user_prompt = f'''\n",
    "    Conversation: {delimiter} {his} {delimiter}\n",
    "\n",
    "    Interaction: {delimiter} {interaction} {delimiter}\n",
    "\n",
    "    Recognize the comprehension level of the interaction (3, 2, 1, 0, or -1) without providing any additional information.\n",
    "'''\n",
    "    interactions.append((\"user\", user_prompt))\n",
    "\n",
    "    ans = openai_client.chat.completions.create(\n",
    "            model=gpt_engine_name,\n",
    "            messages=conversation_history + [{\"role\": role, \"content\": content} for role, content in interactions],\n",
    "            max_tokens=2\n",
    "        )\n",
    "    ans=ans.choices[0].message.content\n",
    "\n",
    "    return ans"
   ]
  },
  {
   "cell_type": "code",
   "execution_count": 151,
   "metadata": {},
   "outputs": [
    {
     "data": {
      "text/plain": [
       "'3'"
      ]
     },
     "execution_count": 151,
     "metadata": {},
     "output_type": "execute_result"
    }
   ],
   "source": [
    "query=\"delhi\"\n",
    "response=\"\"\"Congratulations! You've correctly identified that the capital of India is Delhi. \n",
    "\n",
    "Now that we've established that, how about exploring some key aspects of Delhi? For instance, would you like to learn more about its historical landmarks, such as the Red Fort and India Gate, or delve into its role as the seat of government? Your choice!\"\"\"\n",
    "student_score(query,response,history)"
   ]
  },
  {
   "cell_type": "code",
   "execution_count": 154,
   "metadata": {},
   "outputs": [
    {
     "data": {
      "text/plain": [
       "2"
      ]
     },
     "execution_count": 154,
     "metadata": {},
     "output_type": "execute_result"
    }
   ],
   "source": [
    "import statistics\n",
    "# Define the list\n",
    "numbers = [1, 2, 3]\n",
    "\n",
    "# Calculate the mean using the statistics module\n",
    "mean = statistics.mean(numbers)\n",
    "mean"
   ]
  },
  {
   "cell_type": "code",
   "execution_count": 163,
   "metadata": {},
   "outputs": [],
   "source": [
    "goals=[\n",
    "                \"Learn Python\",\n",
    "                \"Understand FastAPI\"\n",
    "            ]"
   ]
  },
  {
   "cell_type": "code",
   "execution_count": 164,
   "metadata": {},
   "outputs": [],
   "source": [
    "conversation=\"\"\"User:what is captial of india? \\n Bot: It's great to see your curiosity about global geography! To further encourage your learning journey, let's explore some interesting facts about the capital city of India:\n",
    "\n",
    "1. This city is not only the political hub but also a historical treasure.\n",
    "2. It has significant landmarks like the Red Fort and India Gate.\n",
    "3. It serves as the seat of all three branches of the Government of India.\n",
    "\n",
    "Can you guess the name of this vibrant and historically rich city?\\n\"\"\"\n",
    "rating=3"
   ]
  },
  {
   "cell_type": "code",
   "execution_count": 165,
   "metadata": {},
   "outputs": [],
   "source": [
    "system=f'''\n",
    "Your are AI Assistant that helps students by recommending new quesstion based on the the given topics. These questions helps students to enhance the understanding of topic\n",
    "Analyse the given student ratings and generate three questions based on student level\n",
    "If the student is poor then generate easy questions, if he is average then generate modarate question else generate hard question only from the context given\n",
    "\n",
    "Instructions to find student intellegence level:\n",
    "- First analyse the student conversation with bot, type of queries, follow up queries student is asking to the bot. Does he taking the conversation on one topic with follow up queries or he asking queries on different topics.\n",
    "- If the student is asking follow up questions(to understand previous query more) on same topic and taking conversation on same topic for long time or saying he is not understanding the bot response then the student is potentially not understanding the topic and is a weak student.\n",
    "- If the student is asking follow up question not to understand his previous query but to gain more knowledge and ask different type of queries to bot to gain knowledge then student is potentially a good student.\n",
    "- If the student conversation is normal without any follow up question or he never said he didn't understand the topic then the student has a normal understanding.\n",
    "\n",
    "Conversation:\n",
    "{conversation}\n",
    "\n",
    "Student Rating:\n",
    "{rating} out of 5\n",
    "\n",
    "Based on the student intelligence level and student rating ask him different type of questions.\n",
    "\n",
    "*NOTE :\n",
    "*Include a good intro like sure, let me give me some questions to you for practice and after giving questions from the context, ask them to try to provide answer so that you can validate the answers and provide areas of gap.\n",
    "*Don't include anything like poor, average or good student.'''"
   ]
  },
  {
   "cell_type": "code",
   "execution_count": 166,
   "metadata": {},
   "outputs": [],
   "source": [
    "def recommend_questions(learning_goals):\n",
    "    topics=f\",\".join(learning_goals)\n",
    "    \n",
    "    conversation_history = [\n",
    "        {\"role\": \"system\", \"content\": system}\n",
    "    ]\n",
    "\n",
    "    # print(\"History:\",his)\n",
    "    interactions=[]\n",
    "    user_prompt = f\"\"\"Your task is to generate ONLY 3 best question based on these topics: {topics}. Your response should be as truthful as possible, and should include all the information is covered about the topic: {topics} within the context. Your response should be well-supported and grounded in the evidence provided by the context. The generated questions must be related to the topics. Start generating with the sentence that makes student engage.\n",
    "*NOTE :\n",
    "*Include a good intro like sure, let me give me some questions to you for practice and after giving questions from the context, ask them to try to provide answer so that you can validate the answers and provide areas of gap.\n",
    "*Don't include anything like poor, average or good student.\"\"\"\n",
    "\n",
    "    interactions.append((\"user\", user_prompt))\n",
    "\n",
    "    ans = openai_client.chat.completions.create(\n",
    "            model=gpt_engine_name,\n",
    "            messages=conversation_history + [{\"role\": role, \"content\": content} for role, content in interactions],\n",
    "            max_tokens=300\n",
    "        )\n",
    "    ans=ans.choices[0].message.content\n",
    "    \n",
    "    return ans"
   ]
  },
  {
   "cell_type": "code",
   "execution_count": 168,
   "metadata": {},
   "outputs": [
    {
     "name": "stdout",
     "output_type": "stream",
     "text": [
      "Sure, let me give you some questions to practice. These will help you enhance your understanding of Python and the FastAPI framework:\n",
      "\n",
      "1. In Python, what is the difference between lists and tuples, and in what scenarios would you choose one over the other?\n",
      "   \n",
      "2. Can you explain the concept of asynchronous programming in FastAPI and give an example of how to write an asynchronous route handler?\n",
      "\n",
      "3. How would you create a Pydantic model in FastAPI to validate and parse the data for an endpoint that accepts a user's `name`, `email`, and `age`?\n",
      "\n",
      "Please try to provide answers to these questions so that I can validate them and help identify areas where you might need more practice.\n"
     ]
    }
   ],
   "source": [
    "print(recommend_questions(goals))"
   ]
  },
  {
   "cell_type": "code",
   "execution_count": null,
   "metadata": {},
   "outputs": [],
   "source": [
    "try:\n",
    "    session_manager.update_difficulty_level(student_id, session_id, difficulty_level)\n",
    "    logger.info(f\"Difficulty level updated for student_id: {student_id}, session_id: {session_id}\")\n",
    "except Exception as e:\n",
    "    logger.error(f\"Error updating difficulty level for student_id: {student_id}, session_id: {session_id}: {str(e)}\")\n",
    "    raise HTTPException(status_code=500, detail=\"Error updating difficulty level\")"
   ]
  },
  {
   "cell_type": "code",
   "execution_count": null,
   "metadata": {},
   "outputs": [],
   "source": [
    "def update_difficulty_level(self, student_id, session_id, difficulty_level):\n",
    "        \"\"\"Updates the difficulty level of an existing session.\"\"\"\n",
    "        try:\n",
    "            sessions = self.load_sessions()\n",
    "\n",
    "            # Calculate session progress and state\n",
    "            if session_id in sessions[student_id]:\n",
    "                history = sessions[student_id][session_id][\"interactions\"]\n",
    "                if len(history) > 0 and len(history) < 100:\n",
    "                    session_progress = (len(history) / 100) * 100\n",
    "                    session_state = \"in-progress\"\n",
    "                else:\n",
    "                    session_progress = 100\n",
    "                    session_state = \"completed\"\n",
    "\n",
    "                # Update the difficulty level\n",
    "                sessions[student_id][session_id][\"difficulty_level\"] = difficulty_level\n",
    "                sessions[student_id][session_id][\"session_progress\"] = session_progress\n",
    "                sessions[student_id][session_id][\"session_state\"] = session_state\n",
    "                logger.info(f\"Difficulty level updated for session {session_id} for student {student_id}.\")\n",
    "            else:\n",
    "                logger.warning(f\"Session {session_id} for student {student_id} does not exist.\")\n",
    "\n",
    "            # Save updated sessions\n",
    "            self.save_sessions(sessions)\n",
    "        except Exception as e:\n",
    "            logger.error(f\"Error updating difficulty level for student {student_id}, session {session_id}: {str(e)}\")"
   ]
  }
 ],
 "metadata": {
  "kernelspec": {
   "display_name": "student_env",
   "language": "python",
   "name": "python3"
  },
  "language_info": {
   "codemirror_mode": {
    "name": "ipython",
    "version": 3
   },
   "file_extension": ".py",
   "mimetype": "text/x-python",
   "name": "python",
   "nbconvert_exporter": "python",
   "pygments_lexer": "ipython3",
   "version": "3.12.8"
  }
 },
 "nbformat": 4,
 "nbformat_minor": 2
}
